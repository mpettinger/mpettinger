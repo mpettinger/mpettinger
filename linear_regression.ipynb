{
  "nbformat": 4,
  "nbformat_minor": 0,
  "metadata": {
    "colab": {
      "name": "linear_regression.ipynb",
      "provenance": [],
      "collapsed_sections": [],
      "authorship_tag": "ABX9TyOL9cx9KKrUamX3YkcDk76p",
      "include_colab_link": true
    },
    "kernelspec": {
      "name": "python3",
      "display_name": "Python 3"
    },
    "language_info": {
      "name": "python"
    }
  },
  "cells": [
    {
      "cell_type": "markdown",
      "metadata": {
        "id": "view-in-github",
        "colab_type": "text"
      },
      "source": [
        "<a href=\"https://colab.research.google.com/github/mpettinger/mpettinger/blob/main/linear_regression.ipynb\" target=\"_parent\"><img src=\"https://colab.research.google.com/assets/colab-badge.svg\" alt=\"Open In Colab\"/></a>"
      ]
    },
    {
      "cell_type": "markdown",
      "metadata": {
        "id": "c3AhFKK-NLXt"
      },
      "source": [
        "The first cell simply generates sample data for us to work with. Normally this data comes from a source like a website, file, etc."
      ]
    },
    {
      "cell_type": "code",
      "metadata": {
        "id": "albCZ6vcNG83"
      },
      "source": [
        "import matplotlib.pyplot as plt\n",
        "import numpy as np\n",
        "\n",
        "\n",
        "def linear_gen(x):\n",
        "  return 5*x+3\n",
        "inputs = np.arange(-5,10,.1)\n",
        "targets = linear_gen(inputs)"
      ],
      "execution_count": null,
      "outputs": []
    },
    {
      "cell_type": "markdown",
      "metadata": {
        "id": "7K3gIew1NgKU"
      },
      "source": [
        "This next cell has two functions. The first function called myregression is simply a linear regression function. We are trying to find the values of m and b that will result in the smallest value returned from the SSE function.\n",
        "\n",
        "The second function is sse. SSE stands for Some of Squared Error. This is the loss function that we are using. It finds the difference between the prediction from the myregression function and the what the actuall value is. Squares the difference and then adds up all of the differences. It tells us how good the myregression function fits the data."
      ]
    },
    {
      "cell_type": "code",
      "metadata": {
        "id": "73Oo4kKVO9uj"
      },
      "source": [
        "def myregression(m,x,b):\n",
        "  return m*x+b\n",
        "\n",
        "def sse(n,label):\n",
        "  error = np.sum((label-n)**2)\n",
        "  #print(error)\n",
        "  return error"
      ],
      "execution_count": null,
      "outputs": []
    },
    {
      "cell_type": "markdown",
      "metadata": {
        "id": "SdvDb5RBQc77"
      },
      "source": [
        "This next cell is essentially our \"learning process.\" bee_vals is all of our b values that we are trying. We test all the values from 0 to 25 in 1 step increments. At each increment we find the Sum of Squared Error between what our model predicted what the actuall value was.\n",
        "\n",
        "We then plot the b values along the x axis and the Some of Squared Error values on the Y-Axis. As we can see. The lowest point in the paraballa is when b = 3. This makes sense since the equation we used to generate the data was 5x+3.\n",
        "\n",
        "Interestingly, the value that results in the minimum value for b changes depending on what value we use for m_value. m_value is m in our equation for that we are trying to fit to the data."
      ]
    },
    {
      "cell_type": "code",
      "metadata": {
        "colab": {
          "base_uri": "https://localhost:8080/",
          "height": 333
        },
        "id": "Q8ymGDSSYOJq",
        "outputId": "cb286f14-949d-415d-d748-ed28fb70e6a9"
      },
      "source": [
        "errors = []\n",
        "\n",
        "bee_vals = np.arange(0,10,.5)\n",
        "m_value = 5\n",
        "for bees in bee_vals:\n",
        "  returned_error = sse(myregression(m_value,inputs,bees),targets)\n",
        "  errors.append(returned_error)\n",
        "\n",
        "xplots = bee_vals\n",
        "yplots = np.array(errors)\n",
        "\n",
        "plt.plot(xplots,yplots)\n",
        "plt.show()\n",
        "\n",
        "print(xplots)\n",
        "print(yplots)"
      ],
      "execution_count": null,
      "outputs": [
        {
          "output_type": "display_data",
          "data": {
            "image/png": "[encoded data removed]",
            "text/plain": [
              "<Figure size 432x288 with 1 Axes>"
            ]
          },
          "metadata": {
            "needs_background": "light"
          }
        },
        {
          "output_type": "stream",
          "name": "stdout",
          "text": [
            "[0.  0.5 1.  1.5 2.  2.5 3.  3.5 4.  4.5 5.  5.5 6.  6.5 7.  7.5 8.  8.5\n",
            " 9.  9.5]\n",
            "[1350.   937.5  600.   337.5  150.    37.5    0.    37.5  150.   337.5\n",
            "  600.   937.5 1350.  1837.5 2400.  3037.5 3750.  4537.5 5400.  6337.5]\n"
          ]
        }
      ]
    }
  ]
}